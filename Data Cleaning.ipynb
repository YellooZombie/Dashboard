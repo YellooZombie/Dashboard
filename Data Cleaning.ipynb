{
 "cells": [
  {
   "cell_type": "markdown",
   "id": "c5fcba8c",
   "metadata": {},
   "source": [
    "# Part 1- Data Cleaning "
   ]
  },
  {
   "cell_type": "markdown",
   "id": "d83b535c",
   "metadata": {},
   "source": [
    "### Data Cleaning for Crash Data for Australia  "
   ]
  },
  {
   "cell_type": "markdown",
   "id": "661dcb5e",
   "metadata": {},
   "source": [
    "Link to dataset:- https://www.kaggle.com/datasets/deepcontractor/australian-fatal-car-accident-data-19892021"
   ]
  },
  {
   "cell_type": "code",
   "execution_count": 1,
   "id": "9585e9d7",
   "metadata": {},
   "outputs": [],
   "source": [
    "#importing all the necessary libraries\n",
    "import numpy as np\n",
    "import pandas as pd\n",
    "import os \n",
    "import datetime as dt\n",
    "import math\n",
    "import seaborn as sns"
   ]
  },
  {
   "cell_type": "code",
   "execution_count": 2,
   "id": "bca1f751",
   "metadata": {},
   "outputs": [
    {
     "name": "stderr",
     "output_type": "stream",
     "text": [
      "C:\\Users\\yashp\\AppData\\Local\\Temp\\ipykernel_3656\\3279786197.py:2: DtypeWarning: Columns (10,14,15,16,17) have mixed types. Specify dtype option on import or set low_memory=False.\n",
      "  df=pd.read_csv('Crash_Data.csv')\n"
     ]
    }
   ],
   "source": [
    "#reading the data\n",
    "df=pd.read_csv('Crash_Data.csv')\n",
    "df=pd.DataFrame(df)"
   ]
  },
  {
   "cell_type": "code",
   "execution_count": 3,
   "id": "3feb2317",
   "metadata": {},
   "outputs": [
    {
     "data": {
      "text/plain": [
       "(52843, 23)"
      ]
     },
     "execution_count": 3,
     "metadata": {},
     "output_type": "execute_result"
    }
   ],
   "source": [
    "df.shape"
   ]
  },
  {
   "cell_type": "code",
   "execution_count": 4,
   "id": "8265c82c",
   "metadata": {},
   "outputs": [
    {
     "data": {
      "text/plain": [
       "Index(['Crash ID', 'State', 'Month', 'Year', 'Dayweek', 'Time', 'Crash Type',\n",
       "       'Bus Involvement', 'Heavy Rigid Truck Involvement',\n",
       "       'Articulated Truck Involvement', 'Speed Limit', 'Road User', 'Gender',\n",
       "       'Age', 'National Remoteness Areas', 'SA4 Name 2016',\n",
       "       'National LGA Name 2017', 'National Road Type', 'Christmas Period',\n",
       "       'Easter Period', 'Age Group', 'Day of week', 'Time of day'],\n",
       "      dtype='object')"
      ]
     },
     "execution_count": 4,
     "metadata": {},
     "output_type": "execute_result"
    }
   ],
   "source": [
    "df.columns"
   ]
  },
  {
   "cell_type": "code",
   "execution_count": 5,
   "id": "5f83f923",
   "metadata": {},
   "outputs": [
    {
     "name": "stdout",
     "output_type": "stream",
     "text": [
      "<class 'pandas.core.frame.DataFrame'>\n",
      "RangeIndex: 52843 entries, 0 to 52842\n",
      "Data columns (total 23 columns):\n",
      " #   Column                         Non-Null Count  Dtype \n",
      "---  ------                         --------------  ----- \n",
      " 0   Crash ID                       52843 non-null  int64 \n",
      " 1   State                          52843 non-null  object\n",
      " 2   Month                          52843 non-null  int64 \n",
      " 3   Year                           52843 non-null  int64 \n",
      " 4   Dayweek                        52843 non-null  object\n",
      " 5   Time                           52803 non-null  object\n",
      " 6   Crash Type                     52843 non-null  object\n",
      " 7   Bus Involvement                52821 non-null  object\n",
      " 8   Heavy Rigid Truck Involvement  32328 non-null  object\n",
      " 9   Articulated Truck Involvement  52821 non-null  object\n",
      " 10  Speed Limit                    52141 non-null  object\n",
      " 11  Road User                      52843 non-null  object\n",
      " 12  Gender                         52816 non-null  object\n",
      " 13  Age                            52843 non-null  int64 \n",
      " 14  National Remoteness Areas      6878 non-null   object\n",
      " 15  SA4 Name 2016                  6892 non-null   object\n",
      " 16  National LGA Name 2017         6893 non-null   object\n",
      " 17  National Road Type             6877 non-null   object\n",
      " 18  Christmas Period               52843 non-null  object\n",
      " 19  Easter Period                  52843 non-null  object\n",
      " 20  Age Group                      52753 non-null  object\n",
      " 21  Day of week                    52843 non-null  object\n",
      " 22  Time of day                    52843 non-null  object\n",
      "dtypes: int64(4), object(19)\n",
      "memory usage: 9.3+ MB\n"
     ]
    }
   ],
   "source": [
    "df.info()"
   ]
  },
  {
   "cell_type": "code",
   "execution_count": 6,
   "id": "7235cb9d",
   "metadata": {},
   "outputs": [
    {
     "data": {
      "text/html": [
       "<div>\n",
       "<style scoped>\n",
       "    .dataframe tbody tr th:only-of-type {\n",
       "        vertical-align: middle;\n",
       "    }\n",
       "\n",
       "    .dataframe tbody tr th {\n",
       "        vertical-align: top;\n",
       "    }\n",
       "\n",
       "    .dataframe thead th {\n",
       "        text-align: right;\n",
       "    }\n",
       "</style>\n",
       "<table border=\"1\" class=\"dataframe\">\n",
       "  <thead>\n",
       "    <tr style=\"text-align: right;\">\n",
       "      <th></th>\n",
       "      <th>Crash ID</th>\n",
       "      <th>State</th>\n",
       "      <th>Month</th>\n",
       "      <th>Year</th>\n",
       "      <th>Dayweek</th>\n",
       "      <th>Time</th>\n",
       "      <th>Crash Type</th>\n",
       "      <th>Bus Involvement</th>\n",
       "      <th>Heavy Rigid Truck Involvement</th>\n",
       "      <th>Articulated Truck Involvement</th>\n",
       "      <th>...</th>\n",
       "      <th>Age</th>\n",
       "      <th>National Remoteness Areas</th>\n",
       "      <th>SA4 Name 2016</th>\n",
       "      <th>National LGA Name 2017</th>\n",
       "      <th>National Road Type</th>\n",
       "      <th>Christmas Period</th>\n",
       "      <th>Easter Period</th>\n",
       "      <th>Age Group</th>\n",
       "      <th>Day of week</th>\n",
       "      <th>Time of day</th>\n",
       "    </tr>\n",
       "  </thead>\n",
       "  <tbody>\n",
       "    <tr>\n",
       "      <th>0</th>\n",
       "      <td>20212133</td>\n",
       "      <td>Vic</td>\n",
       "      <td>9</td>\n",
       "      <td>2021</td>\n",
       "      <td>Sunday</td>\n",
       "      <td>0:30</td>\n",
       "      <td>Single</td>\n",
       "      <td>NaN</td>\n",
       "      <td>NaN</td>\n",
       "      <td>NaN</td>\n",
       "      <td>...</td>\n",
       "      <td>38</td>\n",
       "      <td>Inner Regional Australia</td>\n",
       "      <td>Melbourne - Outer East</td>\n",
       "      <td>Yarra Ranges (S)</td>\n",
       "      <td>Arterial Road</td>\n",
       "      <td>No</td>\n",
       "      <td>No</td>\n",
       "      <td>26_to_39</td>\n",
       "      <td>Weekend</td>\n",
       "      <td>Night</td>\n",
       "    </tr>\n",
       "    <tr>\n",
       "      <th>1</th>\n",
       "      <td>20214022</td>\n",
       "      <td>SA</td>\n",
       "      <td>9</td>\n",
       "      <td>2021</td>\n",
       "      <td>Saturday</td>\n",
       "      <td>23:31</td>\n",
       "      <td>Multiple</td>\n",
       "      <td>No</td>\n",
       "      <td>No</td>\n",
       "      <td>No</td>\n",
       "      <td>...</td>\n",
       "      <td>28</td>\n",
       "      <td>Major Cities of Australia</td>\n",
       "      <td>Adelaide - North</td>\n",
       "      <td>Playford (C)</td>\n",
       "      <td>NaN</td>\n",
       "      <td>No</td>\n",
       "      <td>No</td>\n",
       "      <td>26_to_39</td>\n",
       "      <td>Weekend</td>\n",
       "      <td>Night</td>\n",
       "    </tr>\n",
       "    <tr>\n",
       "      <th>2</th>\n",
       "      <td>20212096</td>\n",
       "      <td>Vic</td>\n",
       "      <td>9</td>\n",
       "      <td>2021</td>\n",
       "      <td>Saturday</td>\n",
       "      <td>23:00</td>\n",
       "      <td>Single</td>\n",
       "      <td>NaN</td>\n",
       "      <td>NaN</td>\n",
       "      <td>NaN</td>\n",
       "      <td>...</td>\n",
       "      <td>19</td>\n",
       "      <td>Inner Regional Australia</td>\n",
       "      <td>Hume</td>\n",
       "      <td>Wangaratta (RC)</td>\n",
       "      <td>Access road</td>\n",
       "      <td>No</td>\n",
       "      <td>No</td>\n",
       "      <td>17_to_25</td>\n",
       "      <td>Weekend</td>\n",
       "      <td>Night</td>\n",
       "    </tr>\n",
       "    <tr>\n",
       "      <th>3</th>\n",
       "      <td>20212145</td>\n",
       "      <td>Vic</td>\n",
       "      <td>9</td>\n",
       "      <td>2021</td>\n",
       "      <td>Saturday</td>\n",
       "      <td>22:25</td>\n",
       "      <td>Single</td>\n",
       "      <td>NaN</td>\n",
       "      <td>NaN</td>\n",
       "      <td>NaN</td>\n",
       "      <td>...</td>\n",
       "      <td>23</td>\n",
       "      <td>Outer Regional Australia</td>\n",
       "      <td>Hume</td>\n",
       "      <td>Wangaratta (RC)</td>\n",
       "      <td>Arterial Road</td>\n",
       "      <td>No</td>\n",
       "      <td>No</td>\n",
       "      <td>17_to_25</td>\n",
       "      <td>Weekend</td>\n",
       "      <td>Night</td>\n",
       "    </tr>\n",
       "    <tr>\n",
       "      <th>4</th>\n",
       "      <td>20212075</td>\n",
       "      <td>Vic</td>\n",
       "      <td>9</td>\n",
       "      <td>2021</td>\n",
       "      <td>Saturday</td>\n",
       "      <td>5:15</td>\n",
       "      <td>Single</td>\n",
       "      <td>NaN</td>\n",
       "      <td>NaN</td>\n",
       "      <td>NaN</td>\n",
       "      <td>...</td>\n",
       "      <td>46</td>\n",
       "      <td>Major Cities of Australia</td>\n",
       "      <td>Melbourne - South East</td>\n",
       "      <td>Casey (C)</td>\n",
       "      <td>Local Road</td>\n",
       "      <td>No</td>\n",
       "      <td>No</td>\n",
       "      <td>40_to_64</td>\n",
       "      <td>Weekend</td>\n",
       "      <td>Night</td>\n",
       "    </tr>\n",
       "  </tbody>\n",
       "</table>\n",
       "<p>5 rows × 23 columns</p>\n",
       "</div>"
      ],
      "text/plain": [
       "   Crash ID State  Month  Year   Dayweek   Time Crash Type Bus Involvement  \\\n",
       "0  20212133   Vic      9  2021    Sunday   0:30     Single             NaN   \n",
       "1  20214022    SA      9  2021  Saturday  23:31   Multiple              No   \n",
       "2  20212096   Vic      9  2021  Saturday  23:00     Single             NaN   \n",
       "3  20212145   Vic      9  2021  Saturday  22:25     Single             NaN   \n",
       "4  20212075   Vic      9  2021  Saturday   5:15     Single             NaN   \n",
       "\n",
       "  Heavy Rigid Truck Involvement Articulated Truck Involvement  ... Age  \\\n",
       "0                           NaN                           NaN  ...  38   \n",
       "1                            No                            No  ...  28   \n",
       "2                           NaN                           NaN  ...  19   \n",
       "3                           NaN                           NaN  ...  23   \n",
       "4                           NaN                           NaN  ...  46   \n",
       "\n",
       "   National Remoteness Areas           SA4 Name 2016  National LGA Name 2017  \\\n",
       "0   Inner Regional Australia  Melbourne - Outer East        Yarra Ranges (S)   \n",
       "1  Major Cities of Australia        Adelaide - North            Playford (C)   \n",
       "2   Inner Regional Australia                    Hume         Wangaratta (RC)   \n",
       "3   Outer Regional Australia                    Hume         Wangaratta (RC)   \n",
       "4  Major Cities of Australia  Melbourne - South East               Casey (C)   \n",
       "\n",
       "  National Road Type Christmas Period Easter Period Age Group Day of week  \\\n",
       "0      Arterial Road               No            No  26_to_39     Weekend   \n",
       "1                NaN               No            No  26_to_39     Weekend   \n",
       "2        Access road               No            No  17_to_25     Weekend   \n",
       "3      Arterial Road               No            No  17_to_25     Weekend   \n",
       "4         Local Road               No            No  40_to_64     Weekend   \n",
       "\n",
       "  Time of day  \n",
       "0       Night  \n",
       "1       Night  \n",
       "2       Night  \n",
       "3       Night  \n",
       "4       Night  \n",
       "\n",
       "[5 rows x 23 columns]"
      ]
     },
     "execution_count": 6,
     "metadata": {},
     "output_type": "execute_result"
    }
   ],
   "source": [
    "df.head(5)"
   ]
  },
  {
   "cell_type": "code",
   "execution_count": 7,
   "id": "715c60ab",
   "metadata": {
    "scrolled": false
   },
   "outputs": [
    {
     "data": {
      "text/plain": [
       "Crash ID                             0\n",
       "State                                0\n",
       "Month                                0\n",
       "Year                                 0\n",
       "Dayweek                              0\n",
       "Time                                40\n",
       "Crash Type                           0\n",
       "Bus Involvement                     22\n",
       "Heavy Rigid Truck Involvement    20515\n",
       "Articulated Truck Involvement       22\n",
       "Speed Limit                        702\n",
       "Road User                            0\n",
       "Gender                              27\n",
       "Age                                  0\n",
       "National Remoteness Areas        45965\n",
       "SA4 Name 2016                    45951\n",
       "National LGA Name 2017           45950\n",
       "National Road Type               45966\n",
       "Christmas Period                     0\n",
       "Easter Period                        0\n",
       "Age Group                           90\n",
       "Day of week                          0\n",
       "Time of day                          0\n",
       "dtype: int64"
      ]
     },
     "execution_count": 7,
     "metadata": {},
     "output_type": "execute_result"
    }
   ],
   "source": [
    "#Checking for null values\n",
    "df.isnull().sum()"
   ]
  },
  {
   "cell_type": "code",
   "execution_count": 8,
   "id": "60ef65ce",
   "metadata": {},
   "outputs": [],
   "source": [
    "#droping columns with maximum null values\n",
    "df=df.drop(columns=['National Remoteness Areas','SA4 Name 2016','National LGA Name 2017','National Road Type'],axis=1)"
   ]
  },
  {
   "cell_type": "code",
   "execution_count": 9,
   "id": "07a1d1d5",
   "metadata": {},
   "outputs": [
    {
     "data": {
      "text/plain": [
       "Crash ID                             0\n",
       "State                                0\n",
       "Month                                0\n",
       "Year                                 0\n",
       "Dayweek                              0\n",
       "Time                                40\n",
       "Crash Type                           0\n",
       "Bus Involvement                     22\n",
       "Heavy Rigid Truck Involvement    20515\n",
       "Articulated Truck Involvement       22\n",
       "Speed Limit                        702\n",
       "Road User                            0\n",
       "Gender                              27\n",
       "Age                                  0\n",
       "Christmas Period                     0\n",
       "Easter Period                        0\n",
       "Age Group                           90\n",
       "Day of week                          0\n",
       "Time of day                          0\n",
       "dtype: int64"
      ]
     },
     "execution_count": 9,
     "metadata": {},
     "output_type": "execute_result"
    }
   ],
   "source": [
    "#Checking for null values\n",
    "df.isnull().sum()"
   ]
  },
  {
   "cell_type": "markdown",
   "id": "2a0b05f9",
   "metadata": {},
   "source": [
    "### Checking all the values in the columns "
   ]
  },
  {
   "cell_type": "code",
   "execution_count": 10,
   "id": "111832a3",
   "metadata": {},
   "outputs": [
    {
     "data": {
      "text/plain": [
       "array([nan, 'No', 'Yes'], dtype=object)"
      ]
     },
     "execution_count": 10,
     "metadata": {},
     "output_type": "execute_result"
    }
   ],
   "source": [
    "df['Heavy Rigid Truck Involvement'].unique()"
   ]
  },
  {
   "cell_type": "code",
   "execution_count": 11,
   "id": "f477c955",
   "metadata": {},
   "outputs": [
    {
     "data": {
      "text/plain": [
       "array([nan, 'No', 'Yes'], dtype=object)"
      ]
     },
     "execution_count": 11,
     "metadata": {},
     "output_type": "execute_result"
    }
   ],
   "source": [
    "df['Articulated Truck Involvement'].unique()"
   ]
  },
  {
   "cell_type": "code",
   "execution_count": 12,
   "id": "1aba49de",
   "metadata": {},
   "outputs": [
    {
     "data": {
      "text/plain": [
       "array([nan, 'No', 'Yes'], dtype=object)"
      ]
     },
     "execution_count": 12,
     "metadata": {},
     "output_type": "execute_result"
    }
   ],
   "source": [
    "df['Bus Involvement'].unique()"
   ]
  },
  {
   "cell_type": "code",
   "execution_count": 13,
   "id": "7fd17294",
   "metadata": {},
   "outputs": [],
   "source": [
    "#Changing all the nan to No in the column\n",
    "df['Heavy Rigid Truck Involvement'].fillna(\"No\", inplace = True)"
   ]
  },
  {
   "cell_type": "code",
   "execution_count": 14,
   "id": "006e19be",
   "metadata": {},
   "outputs": [
    {
     "data": {
      "text/plain": [
       "array(['No', 'Yes'], dtype=object)"
      ]
     },
     "execution_count": 14,
     "metadata": {},
     "output_type": "execute_result"
    }
   ],
   "source": [
    "df['Heavy Rigid Truck Involvement'].unique()"
   ]
  },
  {
   "cell_type": "code",
   "execution_count": 15,
   "id": "33682f9b",
   "metadata": {},
   "outputs": [],
   "source": [
    "#Changing all the nan to No in the column\n",
    "df['Articulated Truck Involvement'].fillna(\"No\", inplace = True)"
   ]
  },
  {
   "cell_type": "code",
   "execution_count": 16,
   "id": "9580f623",
   "metadata": {},
   "outputs": [
    {
     "data": {
      "text/plain": [
       "array(['No', 'Yes'], dtype=object)"
      ]
     },
     "execution_count": 16,
     "metadata": {},
     "output_type": "execute_result"
    }
   ],
   "source": [
    "df['Articulated Truck Involvement'].unique()"
   ]
  },
  {
   "cell_type": "code",
   "execution_count": 17,
   "id": "2153411b",
   "metadata": {},
   "outputs": [],
   "source": [
    "#Changing all the nan to No in the column\n",
    "df['Bus Involvement'].fillna(\"No\", inplace = True)"
   ]
  },
  {
   "cell_type": "code",
   "execution_count": 18,
   "id": "5b9058a9",
   "metadata": {},
   "outputs": [
    {
     "data": {
      "text/plain": [
       "array(['No', 'Yes'], dtype=object)"
      ]
     },
     "execution_count": 18,
     "metadata": {},
     "output_type": "execute_result"
    }
   ],
   "source": [
    "df['Bus Involvement'].unique()"
   ]
  },
  {
   "cell_type": "code",
   "execution_count": 19,
   "id": "9bb19d9d",
   "metadata": {},
   "outputs": [
    {
     "data": {
      "text/plain": [
       "Crash ID                           0\n",
       "State                              0\n",
       "Month                              0\n",
       "Year                               0\n",
       "Dayweek                            0\n",
       "Time                              40\n",
       "Crash Type                         0\n",
       "Bus Involvement                    0\n",
       "Heavy Rigid Truck Involvement      0\n",
       "Articulated Truck Involvement      0\n",
       "Speed Limit                      702\n",
       "Road User                          0\n",
       "Gender                            27\n",
       "Age                                0\n",
       "Christmas Period                   0\n",
       "Easter Period                      0\n",
       "Age Group                         90\n",
       "Day of week                        0\n",
       "Time of day                        0\n",
       "dtype: int64"
      ]
     },
     "execution_count": 19,
     "metadata": {},
     "output_type": "execute_result"
    }
   ],
   "source": [
    "#Checking for null values\n",
    "df.isnull().sum()"
   ]
  },
  {
   "cell_type": "code",
   "execution_count": 20,
   "id": "4e19bf3d",
   "metadata": {},
   "outputs": [
    {
     "data": {
      "text/plain": [
       "array([nan, '110', '100', '60', '80', '50', '70', '90', '40', '130', '20',\n",
       "       '10', '30', '25', '15', '<40', '5', 'Unspecified', '75', 110, 100,\n",
       "       60, -9, 80, 90, 70, 40, 50, 30, 20, 75], dtype=object)"
      ]
     },
     "execution_count": 20,
     "metadata": {},
     "output_type": "execute_result"
    }
   ],
   "source": [
    "df['Speed Limit'].unique()"
   ]
  },
  {
   "cell_type": "code",
   "execution_count": 21,
   "id": "2378196b",
   "metadata": {},
   "outputs": [],
   "source": [
    "#replacing all the nan with 0 \n",
    "df['Speed Limit'].fillna(\"0\", inplace = True)"
   ]
  },
  {
   "cell_type": "code",
   "execution_count": 22,
   "id": "d5a0288d",
   "metadata": {},
   "outputs": [
    {
     "data": {
      "text/plain": [
       "array(['0', '110', '100', '60', '80', '50', '70', '90', '40', '130', '20',\n",
       "       '10', '30', '25', '15', '<40', '5', 'Unspecified', '75', 110, 100,\n",
       "       60, -9, 80, 90, 70, 40, 50, 30, 20, 75], dtype=object)"
      ]
     },
     "execution_count": 22,
     "metadata": {},
     "output_type": "execute_result"
    }
   ],
   "source": [
    "df['Speed Limit'].unique()"
   ]
  },
  {
   "cell_type": "code",
   "execution_count": 23,
   "id": "b7ac4ce9",
   "metadata": {},
   "outputs": [],
   "source": [
    "#replacing all the -9 with 0 as speed limit cannot be negative \n",
    "df['Speed Limit'] = df['Speed Limit'].replace([-9], '0')"
   ]
  },
  {
   "cell_type": "code",
   "execution_count": 24,
   "id": "df3fa7bb",
   "metadata": {
    "scrolled": false
   },
   "outputs": [
    {
     "data": {
      "text/plain": [
       "array(['0', '110', '100', '60', '80', '50', '70', '90', '40', '130', '20',\n",
       "       '10', '30', '25', '15', '<40', '5', 'Unspecified', '75', 110, 100,\n",
       "       60, 80, 90, 70, 40, 50, 30, 20, 75], dtype=object)"
      ]
     },
     "execution_count": 24,
     "metadata": {},
     "output_type": "execute_result"
    }
   ],
   "source": [
    "df['Speed Limit'].unique()"
   ]
  },
  {
   "cell_type": "code",
   "execution_count": 25,
   "id": "27c0e347",
   "metadata": {},
   "outputs": [],
   "source": [
    "#to convert the whole column to int getting rid of < sign \n",
    "df['Speed Limit'] = df['Speed Limit'].replace(['<40'], 39)"
   ]
  },
  {
   "cell_type": "code",
   "execution_count": 26,
   "id": "abdea280",
   "metadata": {},
   "outputs": [],
   "source": [
    "#to convert the whole column to int getting rid of Unspecified\n",
    "df['Speed Limit'] = df['Speed Limit'].replace(['Unspecified'], 0)"
   ]
  },
  {
   "cell_type": "code",
   "execution_count": 27,
   "id": "6de61985",
   "metadata": {},
   "outputs": [],
   "source": [
    "#typecasting the whole column as int\n",
    "df['Speed Limit']=df['Speed Limit'].astype(int)"
   ]
  },
  {
   "cell_type": "code",
   "execution_count": 28,
   "id": "6828e6e0",
   "metadata": {},
   "outputs": [
    {
     "data": {
      "text/plain": [
       "array([  0, 110, 100,  60,  80,  50,  70,  90,  40, 130,  20,  10,  30,\n",
       "        25,  15,  39,   5,  75])"
      ]
     },
     "execution_count": 28,
     "metadata": {},
     "output_type": "execute_result"
    }
   ],
   "source": [
    "df['Speed Limit'].unique()"
   ]
  },
  {
   "cell_type": "code",
   "execution_count": 29,
   "id": "7e279a79",
   "metadata": {
    "scrolled": false
   },
   "outputs": [
    {
     "data": {
      "text/plain": [
       "Crash ID                          0\n",
       "State                             0\n",
       "Month                             0\n",
       "Year                              0\n",
       "Dayweek                           0\n",
       "Time                             40\n",
       "Crash Type                        0\n",
       "Bus Involvement                   0\n",
       "Heavy Rigid Truck Involvement     0\n",
       "Articulated Truck Involvement     0\n",
       "Speed Limit                       0\n",
       "Road User                         0\n",
       "Gender                           27\n",
       "Age                               0\n",
       "Christmas Period                  0\n",
       "Easter Period                     0\n",
       "Age Group                        90\n",
       "Day of week                       0\n",
       "Time of day                       0\n",
       "dtype: int64"
      ]
     },
     "execution_count": 29,
     "metadata": {},
     "output_type": "execute_result"
    }
   ],
   "source": [
    "#Checking for null values\n",
    "df.isnull().sum()"
   ]
  },
  {
   "cell_type": "code",
   "execution_count": 30,
   "id": "95b4ff36",
   "metadata": {},
   "outputs": [
    {
     "data": {
      "text/plain": [
       "array(['Male', 'Female', nan, 'Unspecified'], dtype=object)"
      ]
     },
     "execution_count": 30,
     "metadata": {},
     "output_type": "execute_result"
    }
   ],
   "source": [
    "df['Gender'].unique()"
   ]
  },
  {
   "cell_type": "code",
   "execution_count": 31,
   "id": "b2c65c4a",
   "metadata": {},
   "outputs": [],
   "source": [
    "#filling the nulls with Uspecified to make the column more complete \n",
    "df['Gender'].fillna(\"Unspecified\", inplace = True)"
   ]
  },
  {
   "cell_type": "code",
   "execution_count": 32,
   "id": "f19e649a",
   "metadata": {},
   "outputs": [
    {
     "data": {
      "text/plain": [
       "array(['Male', 'Female', 'Unspecified'], dtype=object)"
      ]
     },
     "execution_count": 32,
     "metadata": {},
     "output_type": "execute_result"
    }
   ],
   "source": [
    "df['Gender'].unique()"
   ]
  },
  {
   "cell_type": "code",
   "execution_count": 33,
   "id": "d2df8176",
   "metadata": {},
   "outputs": [
    {
     "data": {
      "text/plain": [
       "Crash ID                          0\n",
       "State                             0\n",
       "Month                             0\n",
       "Year                              0\n",
       "Dayweek                           0\n",
       "Time                             40\n",
       "Crash Type                        0\n",
       "Bus Involvement                   0\n",
       "Heavy Rigid Truck Involvement     0\n",
       "Articulated Truck Involvement     0\n",
       "Speed Limit                       0\n",
       "Road User                         0\n",
       "Gender                            0\n",
       "Age                               0\n",
       "Christmas Period                  0\n",
       "Easter Period                     0\n",
       "Age Group                        90\n",
       "Day of week                       0\n",
       "Time of day                       0\n",
       "dtype: int64"
      ]
     },
     "execution_count": 33,
     "metadata": {},
     "output_type": "execute_result"
    }
   ],
   "source": [
    "#Checking for null values\n",
    "df.isnull().sum()"
   ]
  },
  {
   "cell_type": "code",
   "execution_count": 34,
   "id": "b94a2308",
   "metadata": {},
   "outputs": [
    {
     "data": {
      "text/plain": [
       "array(['0:30', '23:31', '23:00', ..., '3:42', '22:33', '6:57'],\n",
       "      dtype=object)"
      ]
     },
     "execution_count": 34,
     "metadata": {},
     "output_type": "execute_result"
    }
   ],
   "source": [
    "df['Time'].unique()"
   ]
  },
  {
   "cell_type": "code",
   "execution_count": 35,
   "id": "15234439",
   "metadata": {},
   "outputs": [],
   "source": [
    "#storing the index of the null values \n",
    "x=df[df['Time'].isnull()].index.tolist()"
   ]
  },
  {
   "cell_type": "code",
   "execution_count": 36,
   "id": "81a4eb41",
   "metadata": {},
   "outputs": [
    {
     "data": {
      "text/plain": [
       "11088    Night\n",
       "16478    Night\n",
       "16849    Night\n",
       "17445    Night\n",
       "17449    Night\n",
       "20632    Night\n",
       "20644    Night\n",
       "20648    Night\n",
       "21488    Night\n",
       "21599    Night\n",
       "22929    Night\n",
       "24042    Night\n",
       "25941    Night\n",
       "27418    Night\n",
       "27628    Night\n",
       "28007    Night\n",
       "28245    Night\n",
       "30063    Night\n",
       "32712    Night\n",
       "33277    Night\n",
       "33312    Night\n",
       "33428    Night\n",
       "37274    Night\n",
       "37735    Night\n",
       "37753    Night\n",
       "37881    Night\n",
       "37882    Night\n",
       "37883    Night\n",
       "37924    Night\n",
       "38249    Night\n",
       "41535    Night\n",
       "41677    Night\n",
       "41795    Night\n",
       "41889    Night\n",
       "42070    Night\n",
       "42406    Night\n",
       "46073    Night\n",
       "47198    Night\n",
       "48712    Night\n",
       "52714    Night\n",
       "Name: Time of day, dtype: object"
      ]
     },
     "execution_count": 36,
     "metadata": {},
     "output_type": "execute_result"
    }
   ],
   "source": [
    "#checking what time of the day is it when the values are null in the Time Column \n",
    "values = df['Time of day'].iloc[x]\n",
    "values"
   ]
  },
  {
   "cell_type": "code",
   "execution_count": 37,
   "id": "5a4f5f2f",
   "metadata": {},
   "outputs": [],
   "source": [
    "#Since all are night we will fill the nulls with 10 pm as a value \n",
    "df['Time'].fillna('22:00', inplace = True)"
   ]
  },
  {
   "cell_type": "code",
   "execution_count": 38,
   "id": "82ab34c5",
   "metadata": {},
   "outputs": [
    {
     "data": {
      "text/plain": [
       "Crash ID                          0\n",
       "State                             0\n",
       "Month                             0\n",
       "Year                              0\n",
       "Dayweek                           0\n",
       "Time                              0\n",
       "Crash Type                        0\n",
       "Bus Involvement                   0\n",
       "Heavy Rigid Truck Involvement     0\n",
       "Articulated Truck Involvement     0\n",
       "Speed Limit                       0\n",
       "Road User                         0\n",
       "Gender                            0\n",
       "Age                               0\n",
       "Christmas Period                  0\n",
       "Easter Period                     0\n",
       "Age Group                        90\n",
       "Day of week                       0\n",
       "Time of day                       0\n",
       "dtype: int64"
      ]
     },
     "execution_count": 38,
     "metadata": {},
     "output_type": "execute_result"
    }
   ],
   "source": [
    "#Checking for null values\n",
    "df.isnull().sum()"
   ]
  },
  {
   "cell_type": "code",
   "execution_count": 39,
   "id": "30ab32f2",
   "metadata": {},
   "outputs": [],
   "source": [
    "#storing the index of the null values \n",
    "x=df[df['Age Group'].isnull()].index.tolist()"
   ]
  },
  {
   "cell_type": "code",
   "execution_count": 40,
   "id": "91b92723",
   "metadata": {
    "scrolled": true
   },
   "outputs": [
    {
     "data": {
      "text/plain": [
       "array(['26_to_39', '17_to_25', '40_to_64', '0_to_16', '65_to_74',\n",
       "       '75_or_older', nan], dtype=object)"
      ]
     },
     "execution_count": 40,
     "metadata": {},
     "output_type": "execute_result"
    }
   ],
   "source": [
    "df['Age Group'].unique()"
   ]
  },
  {
   "cell_type": "code",
   "execution_count": 41,
   "id": "6b4fd17a",
   "metadata": {},
   "outputs": [
    {
     "data": {
      "text/plain": [
       "array([ 38,  28,  19,  23,  46,  20,  17,   2,  47,  24,  52,  49,  32,\n",
       "        34,  26,  56,  11,  45,  61,  36,  71,  15,  27,  31,  86,  37,\n",
       "        58,  22,  42,  62,  64,  51,  83,  60,  74,  70,  66,  72,  68,\n",
       "        69,  78,   6,  76,  84,  50,  16,  63,  77,  85,  90,  10,  39,\n",
       "         4,  35,  43,  59,  40,  18,  29,  48,  67,   8,  79,  75,  41,\n",
       "        25,  82,  -9,  80,  30,  33,  55,  73,  12,  44,  54,   7,   5,\n",
       "        92,   9,  57,  53,  81,  87,  21,  14,  13,  65,  88,   1,  89,\n",
       "         3,  91,  93,   0,  94,  97, 101,  95,  99,  96,  98, 100],\n",
       "      dtype=int64)"
      ]
     },
     "execution_count": 41,
     "metadata": {},
     "output_type": "execute_result"
    }
   ],
   "source": [
    "df['Age'].unique()"
   ]
  },
  {
   "cell_type": "code",
   "execution_count": 42,
   "id": "0273e44c",
   "metadata": {},
   "outputs": [
    {
     "data": {
      "text/plain": [
       "158     -9\n",
       "734     -9\n",
       "1649    -9\n",
       "1650    -9\n",
       "1651    -9\n",
       "        ..\n",
       "50764   -9\n",
       "50765   -9\n",
       "50766   -9\n",
       "50797   -9\n",
       "52608   -9\n",
       "Name: Age, Length: 90, dtype: int64"
      ]
     },
     "execution_count": 42,
     "metadata": {},
     "output_type": "execute_result"
    }
   ],
   "source": [
    "#Cross checking the index with Age to know the age of missing values \n",
    "values = df['Age'].iloc[x]\n",
    "values"
   ]
  },
  {
   "cell_type": "code",
   "execution_count": 43,
   "id": "d0362c4e",
   "metadata": {},
   "outputs": [],
   "source": [
    "#Since all values are -9 we replace it with NA  \n",
    "df['Age'] = df['Age'].replace(['-9'], \"NA\")"
   ]
  },
  {
   "cell_type": "code",
   "execution_count": 44,
   "id": "63c50c57",
   "metadata": {},
   "outputs": [],
   "source": [
    "#Since all values of age are -9 we replace it with NA\n",
    "df['Age Group'].fillna('NA', inplace = True)"
   ]
  },
  {
   "cell_type": "code",
   "execution_count": 45,
   "id": "1e7c899a",
   "metadata": {},
   "outputs": [
    {
     "data": {
      "text/plain": [
       "Crash ID                         0\n",
       "State                            0\n",
       "Month                            0\n",
       "Year                             0\n",
       "Dayweek                          0\n",
       "Time                             0\n",
       "Crash Type                       0\n",
       "Bus Involvement                  0\n",
       "Heavy Rigid Truck Involvement    0\n",
       "Articulated Truck Involvement    0\n",
       "Speed Limit                      0\n",
       "Road User                        0\n",
       "Gender                           0\n",
       "Age                              0\n",
       "Christmas Period                 0\n",
       "Easter Period                    0\n",
       "Age Group                        0\n",
       "Day of week                      0\n",
       "Time of day                      0\n",
       "dtype: int64"
      ]
     },
     "execution_count": 45,
     "metadata": {},
     "output_type": "execute_result"
    }
   ],
   "source": [
    "#Checking for null values\n",
    "df.isnull().sum()"
   ]
  },
  {
   "cell_type": "markdown",
   "id": "33d0ecc3",
   "metadata": {},
   "source": [
    "## Storing the cleaned data "
   ]
  },
  {
   "cell_type": "code",
   "execution_count": 46,
   "id": "d8d9c215",
   "metadata": {},
   "outputs": [],
   "source": [
    "#storing the cleaned data set in a new csv file \n",
    "df.to_csv('cleanedCrash.csv',index=False)"
   ]
  },
  {
   "cell_type": "code",
   "execution_count": 47,
   "id": "538714ed",
   "metadata": {},
   "outputs": [],
   "source": [
    "#reading the cleaned data to cross check \n",
    "cf=pd.read_csv('cleanedCrash.csv')"
   ]
  },
  {
   "cell_type": "code",
   "execution_count": 48,
   "id": "a2d7aa7d",
   "metadata": {
    "scrolled": true
   },
   "outputs": [
    {
     "data": {
      "text/html": [
       "<div>\n",
       "<style scoped>\n",
       "    .dataframe tbody tr th:only-of-type {\n",
       "        vertical-align: middle;\n",
       "    }\n",
       "\n",
       "    .dataframe tbody tr th {\n",
       "        vertical-align: top;\n",
       "    }\n",
       "\n",
       "    .dataframe thead th {\n",
       "        text-align: right;\n",
       "    }\n",
       "</style>\n",
       "<table border=\"1\" class=\"dataframe\">\n",
       "  <thead>\n",
       "    <tr style=\"text-align: right;\">\n",
       "      <th></th>\n",
       "      <th>Crash ID</th>\n",
       "      <th>State</th>\n",
       "      <th>Month</th>\n",
       "      <th>Year</th>\n",
       "      <th>Dayweek</th>\n",
       "      <th>Time</th>\n",
       "      <th>Crash Type</th>\n",
       "      <th>Bus Involvement</th>\n",
       "      <th>Heavy Rigid Truck Involvement</th>\n",
       "      <th>Articulated Truck Involvement</th>\n",
       "      <th>Speed Limit</th>\n",
       "      <th>Road User</th>\n",
       "      <th>Gender</th>\n",
       "      <th>Age</th>\n",
       "      <th>Christmas Period</th>\n",
       "      <th>Easter Period</th>\n",
       "      <th>Age Group</th>\n",
       "      <th>Day of week</th>\n",
       "      <th>Time of day</th>\n",
       "    </tr>\n",
       "  </thead>\n",
       "  <tbody>\n",
       "    <tr>\n",
       "      <th>0</th>\n",
       "      <td>20212133</td>\n",
       "      <td>Vic</td>\n",
       "      <td>9</td>\n",
       "      <td>2021</td>\n",
       "      <td>Sunday</td>\n",
       "      <td>0:30</td>\n",
       "      <td>Single</td>\n",
       "      <td>No</td>\n",
       "      <td>No</td>\n",
       "      <td>No</td>\n",
       "      <td>0</td>\n",
       "      <td>Motorcycle rider</td>\n",
       "      <td>Male</td>\n",
       "      <td>38</td>\n",
       "      <td>No</td>\n",
       "      <td>No</td>\n",
       "      <td>26_to_39</td>\n",
       "      <td>Weekend</td>\n",
       "      <td>Night</td>\n",
       "    </tr>\n",
       "    <tr>\n",
       "      <th>1</th>\n",
       "      <td>20214022</td>\n",
       "      <td>SA</td>\n",
       "      <td>9</td>\n",
       "      <td>2021</td>\n",
       "      <td>Saturday</td>\n",
       "      <td>23:31</td>\n",
       "      <td>Multiple</td>\n",
       "      <td>No</td>\n",
       "      <td>No</td>\n",
       "      <td>No</td>\n",
       "      <td>110</td>\n",
       "      <td>Pedestrian</td>\n",
       "      <td>Female</td>\n",
       "      <td>28</td>\n",
       "      <td>No</td>\n",
       "      <td>No</td>\n",
       "      <td>26_to_39</td>\n",
       "      <td>Weekend</td>\n",
       "      <td>Night</td>\n",
       "    </tr>\n",
       "    <tr>\n",
       "      <th>2</th>\n",
       "      <td>20212096</td>\n",
       "      <td>Vic</td>\n",
       "      <td>9</td>\n",
       "      <td>2021</td>\n",
       "      <td>Saturday</td>\n",
       "      <td>23:00</td>\n",
       "      <td>Single</td>\n",
       "      <td>No</td>\n",
       "      <td>No</td>\n",
       "      <td>No</td>\n",
       "      <td>0</td>\n",
       "      <td>Passenger</td>\n",
       "      <td>Male</td>\n",
       "      <td>19</td>\n",
       "      <td>No</td>\n",
       "      <td>No</td>\n",
       "      <td>17_to_25</td>\n",
       "      <td>Weekend</td>\n",
       "      <td>Night</td>\n",
       "    </tr>\n",
       "    <tr>\n",
       "      <th>3</th>\n",
       "      <td>20212145</td>\n",
       "      <td>Vic</td>\n",
       "      <td>9</td>\n",
       "      <td>2021</td>\n",
       "      <td>Saturday</td>\n",
       "      <td>22:25</td>\n",
       "      <td>Single</td>\n",
       "      <td>No</td>\n",
       "      <td>No</td>\n",
       "      <td>No</td>\n",
       "      <td>0</td>\n",
       "      <td>Driver</td>\n",
       "      <td>Male</td>\n",
       "      <td>23</td>\n",
       "      <td>No</td>\n",
       "      <td>No</td>\n",
       "      <td>17_to_25</td>\n",
       "      <td>Weekend</td>\n",
       "      <td>Night</td>\n",
       "    </tr>\n",
       "    <tr>\n",
       "      <th>4</th>\n",
       "      <td>20212075</td>\n",
       "      <td>Vic</td>\n",
       "      <td>9</td>\n",
       "      <td>2021</td>\n",
       "      <td>Saturday</td>\n",
       "      <td>5:15</td>\n",
       "      <td>Single</td>\n",
       "      <td>No</td>\n",
       "      <td>No</td>\n",
       "      <td>No</td>\n",
       "      <td>0</td>\n",
       "      <td>Motorcycle rider</td>\n",
       "      <td>Male</td>\n",
       "      <td>46</td>\n",
       "      <td>No</td>\n",
       "      <td>No</td>\n",
       "      <td>40_to_64</td>\n",
       "      <td>Weekend</td>\n",
       "      <td>Night</td>\n",
       "    </tr>\n",
       "    <tr>\n",
       "      <th>5</th>\n",
       "      <td>20213034</td>\n",
       "      <td>Qld</td>\n",
       "      <td>9</td>\n",
       "      <td>2021</td>\n",
       "      <td>Saturday</td>\n",
       "      <td>4:00</td>\n",
       "      <td>Multiple</td>\n",
       "      <td>No</td>\n",
       "      <td>No</td>\n",
       "      <td>No</td>\n",
       "      <td>100</td>\n",
       "      <td>Motorcycle rider</td>\n",
       "      <td>Male</td>\n",
       "      <td>19</td>\n",
       "      <td>No</td>\n",
       "      <td>No</td>\n",
       "      <td>17_to_25</td>\n",
       "      <td>Weekend</td>\n",
       "      <td>Night</td>\n",
       "    </tr>\n",
       "    <tr>\n",
       "      <th>6</th>\n",
       "      <td>20215071</td>\n",
       "      <td>WA</td>\n",
       "      <td>9</td>\n",
       "      <td>2021</td>\n",
       "      <td>Saturday</td>\n",
       "      <td>19:10</td>\n",
       "      <td>Single</td>\n",
       "      <td>No</td>\n",
       "      <td>No</td>\n",
       "      <td>No</td>\n",
       "      <td>100</td>\n",
       "      <td>Driver</td>\n",
       "      <td>Female</td>\n",
       "      <td>20</td>\n",
       "      <td>No</td>\n",
       "      <td>No</td>\n",
       "      <td>17_to_25</td>\n",
       "      <td>Weekend</td>\n",
       "      <td>Night</td>\n",
       "    </tr>\n",
       "    <tr>\n",
       "      <th>7</th>\n",
       "      <td>20212015</td>\n",
       "      <td>Vic</td>\n",
       "      <td>9</td>\n",
       "      <td>2021</td>\n",
       "      <td>Thursday</td>\n",
       "      <td>19:33</td>\n",
       "      <td>Multiple</td>\n",
       "      <td>No</td>\n",
       "      <td>No</td>\n",
       "      <td>No</td>\n",
       "      <td>0</td>\n",
       "      <td>Other/-9</td>\n",
       "      <td>Male</td>\n",
       "      <td>17</td>\n",
       "      <td>No</td>\n",
       "      <td>No</td>\n",
       "      <td>17_to_25</td>\n",
       "      <td>Weekday</td>\n",
       "      <td>Night</td>\n",
       "    </tr>\n",
       "    <tr>\n",
       "      <th>8</th>\n",
       "      <td>20213026</td>\n",
       "      <td>Qld</td>\n",
       "      <td>9</td>\n",
       "      <td>2021</td>\n",
       "      <td>Wednesday</td>\n",
       "      <td>23:00</td>\n",
       "      <td>Multiple</td>\n",
       "      <td>No</td>\n",
       "      <td>No</td>\n",
       "      <td>No</td>\n",
       "      <td>0</td>\n",
       "      <td>Passenger</td>\n",
       "      <td>Female</td>\n",
       "      <td>2</td>\n",
       "      <td>No</td>\n",
       "      <td>No</td>\n",
       "      <td>0_to_16</td>\n",
       "      <td>Weekday</td>\n",
       "      <td>Night</td>\n",
       "    </tr>\n",
       "    <tr>\n",
       "      <th>9</th>\n",
       "      <td>20213092</td>\n",
       "      <td>Qld</td>\n",
       "      <td>9</td>\n",
       "      <td>2021</td>\n",
       "      <td>Saturday</td>\n",
       "      <td>2:00</td>\n",
       "      <td>Single</td>\n",
       "      <td>No</td>\n",
       "      <td>No</td>\n",
       "      <td>No</td>\n",
       "      <td>60</td>\n",
       "      <td>Driver</td>\n",
       "      <td>Male</td>\n",
       "      <td>47</td>\n",
       "      <td>No</td>\n",
       "      <td>No</td>\n",
       "      <td>40_to_64</td>\n",
       "      <td>Weekend</td>\n",
       "      <td>Night</td>\n",
       "    </tr>\n",
       "  </tbody>\n",
       "</table>\n",
       "</div>"
      ],
      "text/plain": [
       "   Crash ID State  Month  Year    Dayweek   Time Crash Type Bus Involvement  \\\n",
       "0  20212133   Vic      9  2021     Sunday   0:30     Single              No   \n",
       "1  20214022    SA      9  2021   Saturday  23:31   Multiple              No   \n",
       "2  20212096   Vic      9  2021   Saturday  23:00     Single              No   \n",
       "3  20212145   Vic      9  2021   Saturday  22:25     Single              No   \n",
       "4  20212075   Vic      9  2021   Saturday   5:15     Single              No   \n",
       "5  20213034   Qld      9  2021   Saturday   4:00   Multiple              No   \n",
       "6  20215071    WA      9  2021   Saturday  19:10     Single              No   \n",
       "7  20212015   Vic      9  2021   Thursday  19:33   Multiple              No   \n",
       "8  20213026   Qld      9  2021  Wednesday  23:00   Multiple              No   \n",
       "9  20213092   Qld      9  2021   Saturday   2:00     Single              No   \n",
       "\n",
       "  Heavy Rigid Truck Involvement Articulated Truck Involvement  Speed Limit  \\\n",
       "0                            No                            No            0   \n",
       "1                            No                            No          110   \n",
       "2                            No                            No            0   \n",
       "3                            No                            No            0   \n",
       "4                            No                            No            0   \n",
       "5                            No                            No          100   \n",
       "6                            No                            No          100   \n",
       "7                            No                            No            0   \n",
       "8                            No                            No            0   \n",
       "9                            No                            No           60   \n",
       "\n",
       "          Road User  Gender  Age Christmas Period Easter Period Age Group  \\\n",
       "0  Motorcycle rider    Male   38               No            No  26_to_39   \n",
       "1        Pedestrian  Female   28               No            No  26_to_39   \n",
       "2         Passenger    Male   19               No            No  17_to_25   \n",
       "3            Driver    Male   23               No            No  17_to_25   \n",
       "4  Motorcycle rider    Male   46               No            No  40_to_64   \n",
       "5  Motorcycle rider    Male   19               No            No  17_to_25   \n",
       "6            Driver  Female   20               No            No  17_to_25   \n",
       "7          Other/-9    Male   17               No            No  17_to_25   \n",
       "8         Passenger  Female    2               No            No   0_to_16   \n",
       "9            Driver    Male   47               No            No  40_to_64   \n",
       "\n",
       "  Day of week Time of day  \n",
       "0     Weekend       Night  \n",
       "1     Weekend       Night  \n",
       "2     Weekend       Night  \n",
       "3     Weekend       Night  \n",
       "4     Weekend       Night  \n",
       "5     Weekend       Night  \n",
       "6     Weekend       Night  \n",
       "7     Weekday       Night  \n",
       "8     Weekday       Night  \n",
       "9     Weekend       Night  "
      ]
     },
     "execution_count": 48,
     "metadata": {},
     "output_type": "execute_result"
    }
   ],
   "source": [
    "#displaying the first 10 data values \n",
    "cf.head(10)"
   ]
  },
  {
   "cell_type": "code",
   "execution_count": 49,
   "id": "babd46da",
   "metadata": {},
   "outputs": [
    {
     "name": "stdout",
     "output_type": "stream",
     "text": [
      "<class 'pandas.core.frame.DataFrame'>\n",
      "RangeIndex: 52843 entries, 0 to 52842\n",
      "Data columns (total 19 columns):\n",
      " #   Column                         Non-Null Count  Dtype \n",
      "---  ------                         --------------  ----- \n",
      " 0   Crash ID                       52843 non-null  int64 \n",
      " 1   State                          52843 non-null  object\n",
      " 2   Month                          52843 non-null  int64 \n",
      " 3   Year                           52843 non-null  int64 \n",
      " 4   Dayweek                        52843 non-null  object\n",
      " 5   Time                           52843 non-null  object\n",
      " 6   Crash Type                     52843 non-null  object\n",
      " 7   Bus Involvement                52843 non-null  object\n",
      " 8   Heavy Rigid Truck Involvement  52843 non-null  object\n",
      " 9   Articulated Truck Involvement  52843 non-null  object\n",
      " 10  Speed Limit                    52843 non-null  int64 \n",
      " 11  Road User                      52843 non-null  object\n",
      " 12  Gender                         52843 non-null  object\n",
      " 13  Age                            52843 non-null  int64 \n",
      " 14  Christmas Period               52843 non-null  object\n",
      " 15  Easter Period                  52843 non-null  object\n",
      " 16  Age Group                      52753 non-null  object\n",
      " 17  Day of week                    52843 non-null  object\n",
      " 18  Time of day                    52843 non-null  object\n",
      "dtypes: int64(5), object(14)\n",
      "memory usage: 7.7+ MB\n"
     ]
    }
   ],
   "source": [
    "cf.info()"
   ]
  }
 ],
 "metadata": {
  "kernelspec": {
   "display_name": "Python 3 (ipykernel)",
   "language": "python",
   "name": "python3"
  },
  "language_info": {
   "codemirror_mode": {
    "name": "ipython",
    "version": 3
   },
   "file_extension": ".py",
   "mimetype": "text/x-python",
   "name": "python",
   "nbconvert_exporter": "python",
   "pygments_lexer": "ipython3",
   "version": "3.9.13"
  }
 },
 "nbformat": 4,
 "nbformat_minor": 5
}
